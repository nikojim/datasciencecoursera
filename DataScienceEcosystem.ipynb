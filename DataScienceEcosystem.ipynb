{
 "cells": [
  {
   "cell_type": "markdown",
   "id": "de80deac-eb5b-4d36-bb2e-14139765808e",
   "metadata": {
    "tags": []
   },
   "source": [
    "# Data Science Tools and Ecosystem "
   ]
  },
  {
   "cell_type": "markdown",
   "id": "6d170b19-018d-41c8-abcc-5d36f74c5036",
   "metadata": {},
   "source": [
    "In this notebook, Data Science Tools and Ecosystem are summarized."
   ]
  },
  {
   "cell_type": "markdown",
   "id": "bf932b42-cf3f-4887-b953-00eab70597eb",
   "metadata": {},
   "source": [
    "**Objectives**\n",
    "* List populas languages for Data Science\n",
    "* List commonly used libraries by Data Scientists\n",
    "* Create a jupyter notebook\n",
    "* Insert code and markdown cells\n",
    "* Share your notebook through GitHub\n"
   ]
  },
  {
   "cell_type": "markdown",
   "id": "30cf9ea5-daf8-4f1b-bf0f-f8075d0005c6",
   "metadata": {},
   "source": [
    "Some of the popular languages that Data Scientists use are:\n",
    "\n",
    "1. python\n",
    "2. R\n",
    "3. SQL"
   ]
  },
  {
   "cell_type": "markdown",
   "id": "877aefac-5b16-4245-afdb-de96ba6bec18",
   "metadata": {},
   "source": [
    "Some of the commonly used libraries used by Data Scientists include:\n",
    "\n",
    "1. ggplot\n",
    "2. pandas\n",
    "3. numpy"
   ]
  },
  {
   "cell_type": "markdown",
   "id": "69b3f5bd-2a2e-4aef-a558-11f5b179fbbb",
   "metadata": {},
   "source": [
    "|Data Science Tools|\n",
    "|---|\n",
    "|Jupyter Notebooks|\n",
    "|R Studio|\n",
    "|Anaconda|"
   ]
  },
  {
   "cell_type": "markdown",
   "id": "72a2b135-a755-447c-8c74-03f3a3bac37d",
   "metadata": {},
   "source": [
    "### Below are a few examples of evaluating arithmetic expressions in Python"
   ]
  },
  {
   "cell_type": "code",
   "execution_count": 2,
   "id": "f1c78431-6d3c-4b85-b9a9-79ba8fd672df",
   "metadata": {},
   "outputs": [
    {
     "data": {
      "text/plain": [
       "17"
      ]
     },
     "execution_count": 2,
     "metadata": {},
     "output_type": "execute_result"
    }
   ],
   "source": [
    "#This a simple arithmetic expression to mutiply then add integers\n",
    "(3*4)+5"
   ]
  },
  {
   "cell_type": "code",
   "execution_count": 3,
   "id": "3e634757-b3fc-45b8-93e4-e0cab3d96146",
   "metadata": {},
   "outputs": [
    {
     "data": {
      "text/plain": [
       "3.3333333333333335"
      ]
     },
     "execution_count": 3,
     "metadata": {},
     "output_type": "execute_result"
    }
   ],
   "source": [
    "#This will convert 200 minutes to hours by diving by 60\n",
    "200/60"
   ]
  },
  {
   "cell_type": "markdown",
   "id": "02c684c5-c655-4918-a5da-9b08b448cd59",
   "metadata": {},
   "source": [
    "## Author\n",
    "Nicolás Pereira"
   ]
  },
  {
   "cell_type": "code",
   "execution_count": null,
   "id": "2e5c7e62-4d07-4cf8-96cc-4fe6da6c24b2",
   "metadata": {},
   "outputs": [],
   "source": []
  }
 ],
 "metadata": {
  "kernelspec": {
   "display_name": "Python",
   "language": "python",
   "name": "conda-env-python-py"
  },
  "language_info": {
   "codemirror_mode": {
    "name": "ipython",
    "version": 3
   },
   "file_extension": ".py",
   "mimetype": "text/x-python",
   "name": "python",
   "nbconvert_exporter": "python",
   "pygments_lexer": "ipython3",
   "version": "3.7.12"
  }
 },
 "nbformat": 4,
 "nbformat_minor": 5
}
